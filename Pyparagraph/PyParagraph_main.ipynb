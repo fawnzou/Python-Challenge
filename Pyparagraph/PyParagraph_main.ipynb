{
 "cells": [
  {
   "cell_type": "code",
   "execution_count": 4,
   "metadata": {},
   "outputs": [],
   "source": [
    "\n",
    "def paragraph_analysis(filename):\n",
    "\n",
    "    import os\n",
    "    import re\n",
    "\n",
    "    # Lists to store \"Sentences\", \"Words\" and \"Letters\" splitted from target txt file, respectively\n",
    "    sentences = []\n",
    "    words = []\n",
    "   \n",
    "\n",
    "    # Set path for the location of txt file\n",
    "    txt_path = os.path.join(\"raw_data\", filename)\n",
    "\n",
    "    with open(txt_path, \"r\") as txtfile:\n",
    "        content = txtfile.read()\n",
    "        # The whitespace character after \".\", \"!\", or \"?\" \n",
    "        # Make sure that a \".\" inside a float number will not be considered as period\n",
    "        sentences = re.split(\"(?<=[.!?]) +\", content) \n",
    "        # Words are those flanked by any non-alphanumeric character(s) in passages\n",
    "        words = re.split(\"\\W+\", content)\n",
    "        # Note that the above syntax might introduce at most two \"\" at both beginning and ending of passages,  and end with quotation marks\n",
    "        # Use while statement to remove \"\" from \"words\" list\n",
    "        while \"\" in words:\n",
    "            words.remove(\"\")\n",
    "\n",
    "        # Note that the above syntax split apart contraction word, which is generally considered as intact\n",
    "        # Use \"contraction_count\" to calculate the amounts of contraction word in the passage\n",
    "        contraction_count = len(re.split(\"[A-z]+['][A-z]+\", content)) - 1\n",
    "\n",
    "        # Note that the above syntax split apart hyphen-connected word, which is generally considered as intact as well\n",
    "        # Use \"hyphen_count\" to calculate the amounts of hyphen-connected word in the passage\n",
    "        hyphen_count = len(re.split(\"[A-z]+[-][A-z]+\", content)) - 1\n",
    "    \n",
    "        # Note that the above syntax also split apart large numbers with comma, which is generally considered as intact\n",
    "        # Use \"comma_in_number_count\" to calculate the amounts of commas in large numbers in the passage\n",
    "        comma_in_number_count = len(re.split(\"[0-9]+[,][0-9]+\", content)) - 1\n",
    "\n",
    "        # Calculate Word counts and store in variant \"word_count\"\n",
    "        word_count = len(words) - contraction_count - hyphen_count - comma_in_number_count\n",
    "        \n",
    "        # Loop through \"words\" list\n",
    "        letter_count=0\n",
    "        for word in words:\n",
    "            letter_count +=len(word)\n",
    "\n",
    "    \n",
    "    # Output print\n",
    "    print(\"\\nParagraph Analysis\")\n",
    "    print('-'*20)\n",
    "    print(f\"Approximate Word Count: {word_count}\")\n",
    "    print(f\"Approximate Sentence Count: {len(sentences)}\")\n",
    "    print(f\"Average Letter Count: {round(letter_count / word_count, 1)}\")\n",
    "    print(f\"Average Sentence Count: {round(word_count / len(sentences), 1)}\")     \n",
    "    \n",
    "\n",
    "  \n",
    "\n"
   ]
  },
  {
   "cell_type": "code",
   "execution_count": 5,
   "metadata": {},
   "outputs": [
    {
     "name": "stdout",
     "output_type": "stream",
     "text": [
      "\n",
      "Paragraph Analysis\n",
      "--------------------\n",
      "Approximate Word Count: 131\n",
      "Approximate Sentence Count: 5\n",
      "Average Letter Count: 6.2\n",
      "Average Sentence Count: 26.2\n"
     ]
    }
   ],
   "source": [
    "\n",
    "# Perform passage analysis on paragraph_1.txt\n",
    "paragraph_analysis(\"paragraph_1.txt\")\n"
   ]
  },
  {
   "cell_type": "code",
   "execution_count": 6,
   "metadata": {},
   "outputs": [
    {
     "name": "stdout",
     "output_type": "stream",
     "text": [
      "\n",
      "Paragraph Analysis\n",
      "--------------------\n",
      "Approximate Word Count: 285\n",
      "Approximate Sentence Count: 2\n",
      "Average Letter Count: 5.0\n",
      "Average Sentence Count: 142.5\n"
     ]
    }
   ],
   "source": [
    "# Perform passage analysis on paragraph_2.txt\n",
    "paragraph_analysis(\"paragraph_2.txt\")       \n",
    "        "
   ]
  },
  {
   "cell_type": "code",
   "execution_count": null,
   "metadata": {},
   "outputs": [],
   "source": []
  },
  {
   "cell_type": "code",
   "execution_count": null,
   "metadata": {},
   "outputs": [],
   "source": []
  }
 ],
 "metadata": {
  "kernelspec": {
   "display_name": "Python 3",
   "language": "python",
   "name": "python3"
  },
  "language_info": {
   "codemirror_mode": {
    "name": "ipython",
    "version": 3
   },
   "file_extension": ".py",
   "mimetype": "text/x-python",
   "name": "python",
   "nbconvert_exporter": "python",
   "pygments_lexer": "ipython3",
   "version": "3.7.1"
  }
 },
 "nbformat": 4,
 "nbformat_minor": 2
}
